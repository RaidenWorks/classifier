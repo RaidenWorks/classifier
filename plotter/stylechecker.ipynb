{
 "cells": [
  {
   "cell_type": "code",
   "execution_count": 3,
   "metadata": {},
   "outputs": [],
   "source": [
    "# Import needed package\n",
    "import pycodestyle\n",
    "\n",
    "# Create a StyleGuide instance\n",
    "style_checker = pycodestyle.StyleGuide()"
   ]
  },
  {
   "cell_type": "code",
   "execution_count": 4,
   "metadata": {},
   "outputs": [
    {
     "name": "stdout",
     "output_type": "stream",
     "text": [
      "plot_distribution.py:22:80: E501 line too long (85 > 79 characters)\n",
      "{'E501': 'line too long (85 > 79 characters)'}\n"
     ]
    }
   ],
   "source": [
    "# Run PEP 8 check on multiple files\n",
    "# result = style_checker.check_files(['readConfig_loadData.py'])\n",
    "result = style_checker.check_files(['plot_distribution.py'])\n",
    "\n",
    "# Print result of PEP 8 style check\n",
    "print(result.messages)"
   ]
  }
 ],
 "metadata": {
  "interpreter": {
   "hash": "0e721fe2fc91b5561c4794b6edd3513d8e6afdb28c67c01c067d94635f5e840d"
  },
  "kernelspec": {
   "display_name": "Python 3.7.12",
   "language": "python",
   "name": "python3"
  },
  "language_info": {
   "codemirror_mode": {
    "name": "ipython",
    "version": 3
   },
   "file_extension": ".py",
   "mimetype": "text/x-python",
   "name": "python",
   "nbconvert_exporter": "python",
   "pygments_lexer": "ipython3",
   "version": "3.7.12"
  },
  "orig_nbformat": 4
 },
 "nbformat": 4,
 "nbformat_minor": 2
}
